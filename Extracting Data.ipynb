{
 "cells": [
  {
   "cell_type": "code",
   "execution_count": 1,
   "metadata": {},
   "outputs": [],
   "source": [
    "import requests\n",
    "\n",
    "def get_season_stats(player_id, season):\n",
    "    url = \"https://stats.nba.com/stats/shotchartdetail?AheadBehind=&CFID=33&CFPARAMS=\"+season+\"&ClutchTime=&Conference=&ContextFilter=&ContextMeasure=FG_PCT&DateFrom=&DateTo=&Division=&EndPeriod=10&EndRange=28800&GROUP_ID=&GameEventID=&GameID=&GameSegment=&GroupID=&GroupMode=&GroupQuantity=5&LastNGames=0&LeagueID=00&Location=&Month=0&OnOff=&OpponentTeamID=0&Outcome=&PORound=0&Period=0&PlayerID=\"+player_id+\"&PlayerID1=&PlayerID2=&PlayerID3=&PlayerID4=&PlayerID5=&PlayerPosition=&PointDiff=&Position=&RangeType=0&RookieYear=&Season=\"+season+\"&SeasonSegment=&SeasonType=Regular+Season&ShotClockRange=&StartPeriod=1&StartRange=0&StarterBench=&TeamID=0&VsConference=&VsDivision=&VsPlayerID1=&VsPlayerID2=&VsPlayerID3=&VsPlayerID4=&VsPlayerID5=&VsTeamID=\"\n",
    "    headers = {'User-Agent': 'Mozilla/5.0 (Macintosh; Intel Mac OS X 10_14_5) AppleWebKit/537.36 (KHTML, like Gecko) Chrome/75.0.3770.142 Safari/537.36', \\\n",
    "    'referer': 'http://stats.nba.com/stats/'}\n",
    "\n",
    "    resp = requests.get(url, headers=headers)\n",
    "    return resp.json()"
   ]
  },
  {
   "cell_type": "code",
   "execution_count": 2,
   "metadata": {},
   "outputs": [],
   "source": [
    "import json\n",
    "\n",
    "def get_player_id(name):\n",
    "    with open(\"players.json\",\"r\") as fin:\n",
    "        player_dict = json.loads(fin.read())\n",
    "    \n",
    "    first, last = name.split(\" \")[0], name.split(\" \")[1]\n",
    "    \n",
    "    for player in player_dict:\n",
    "        if last.lower() == player['lastName'].lower() and first.lower() == player['firstName'].lower():\n",
    "            return player['playerId']\n",
    "    \n",
    "    return \"Not Found\""
   ]
  },
  {
   "cell_type": "code",
   "execution_count": 3,
   "metadata": {},
   "outputs": [],
   "source": [
    "import os\n",
    "import csv\n",
    "\n",
    "def stats_2_csv(player_id, season, stats_js):\n",
    "    if not os.path.exists(\"players/\" + player_id):\n",
    "        os.mkdir(\"players/\" + player_id)\n",
    "\n",
    "    if not os.path.exists(\"players/\" + player_id + \"/\" + season):\n",
    "        os.mkdir(\"players/\" + player_id + \"/\" + season)\n",
    "\n",
    "        fields = stats_js['resultSets'][0]['headers']\n",
    "        rows = stats_js['resultSets'][0]['rowSet']\n",
    "\n",
    "        with open(\"players/\" + player_id + \"/\" + season + \"/make_miss.csv\", \"w\") as fout:\n",
    "            writer = csv.writer(fout, delimiter=',')\n",
    "\n",
    "            writer.writerow(fields)\n",
    "            for row in rows:\n",
    "                writer.writerow(row)"
   ]
  },
  {
   "cell_type": "code",
   "execution_count": 5,
   "metadata": {},
   "outputs": [],
   "source": [
    "def get_all_seasons(player_id):\n",
    "    url = \"https://stats.nba.com/stats/playercareerstats?LeagueID=00&PerMode=PerGame&PlayerID=\"+player_id\n",
    "    headers = {'User-Agent': 'Mozilla/5.0 (Macintosh; Intel Mac OS X 10_14_5) AppleWebKit/537.36 (KHTML, like Gecko) Chrome/75.0.3770.142 Safari/537.36', \\\n",
    "    'referer': 'http://stats.nba.com/stats/'}\n",
    "    \n",
    "    resp = requests.get(url, headers=headers)\n",
    "    \n",
    "    seasons = []\n",
    "    \n",
    "    rows = resp.json()['resultSets'][0]['rowSet']\n",
    "    \n",
    "    for row in rows:\n",
    "        seasons.append(row[1])\n",
    "        \n",
    "    return seasons"
   ]
  },
  {
   "cell_type": "code",
   "execution_count": 6,
   "metadata": {},
   "outputs": [],
   "source": [
    "def career_2_csv(player_id, seasons):\n",
    "    for season in seasons:\n",
    "        stats_js = get_season_stats(player_id, season)\n",
    "        stats_2_csv(player_id, season, stats_js)"
   ]
  },
  {
   "cell_type": "code",
   "execution_count": 10,
   "metadata": {},
   "outputs": [],
   "source": [
    "player_id = str(get_player_id(\"Lebron James\"))\n",
    "season = str(\"2017-18\")\n",
    "\n",
    "stats_js = get_season_stats(player_id, season)\n",
    "seasons = get_all_seasons(player_id)\n",
    "career_2_csv(player_id,seasons)"
   ]
  },
  {
   "cell_type": "code",
   "execution_count": 9,
   "metadata": {},
   "outputs": [],
   "source": [
    "player_id = str(get_player_id(\"Kevin Durant\"))\n",
    "season = str(\"2017-18\")\n",
    "\n",
    "stats_js = get_season_stats(player_id, season)\n",
    "seasons = get_all_seasons(player_id)\n",
    "career_2_csv(player_id,seasons)"
   ]
  },
  {
   "cell_type": "code",
   "execution_count": 57,
   "metadata": {},
   "outputs": [],
   "source": [
    "player_id = str(get_player_id(\"Stephen Curry\"))\n",
    "seasons = get_all_seasons(player_id)\n",
    "career_2_csv(player_id,seasons)"
   ]
  },
  {
   "cell_type": "code",
   "execution_count": 58,
   "metadata": {},
   "outputs": [],
   "source": [
    "player_id = str(get_player_id(\"Kawhi Leonard\"))\n",
    "seasons = get_all_seasons(player_id)\n",
    "career_2_csv(player_id,seasons)"
   ]
  },
  {
   "cell_type": "code",
   "execution_count": 59,
   "metadata": {},
   "outputs": [],
   "source": [
    "player_id = str(get_player_id(\"Carmelo Anthony\"))\n",
    "seasons = get_all_seasons(player_id)\n",
    "career_2_csv(player_id,seasons)"
   ]
  },
  {
   "cell_type": "code",
   "execution_count": 61,
   "metadata": {},
   "outputs": [],
   "source": [
    "player_id = str(get_player_id(\"Kobe Bryant\"))\n",
    "seasons = get_all_seasons(player_id)\n",
    "career_2_csv(player_id,seasons)"
   ]
  },
  {
   "cell_type": "code",
   "execution_count": 63,
   "metadata": {},
   "outputs": [],
   "source": [
    "player_id = str(get_player_id(\"Michael Jordan\"))\n",
    "seasons = get_all_seasons(player_id)\n",
    "career_2_csv(player_id,seasons)"
   ]
  },
  {
   "cell_type": "code",
   "execution_count": null,
   "metadata": {},
   "outputs": [],
   "source": []
  }
 ],
 "metadata": {
  "kernelspec": {
   "display_name": "Python 3",
   "language": "python",
   "name": "python3"
  },
  "language_info": {
   "codemirror_mode": {
    "name": "ipython",
    "version": 3
   },
   "file_extension": ".py",
   "mimetype": "text/x-python",
   "name": "python",
   "nbconvert_exporter": "python",
   "pygments_lexer": "ipython3",
   "version": "3.5.6"
  }
 },
 "nbformat": 4,
 "nbformat_minor": 2
}
