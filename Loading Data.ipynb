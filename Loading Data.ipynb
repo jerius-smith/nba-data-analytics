{
 "cells": [
  {
   "cell_type": "code",
   "execution_count": 1,
   "metadata": {},
   "outputs": [],
   "source": [
    "import pandas as pd\n",
    "import glob\n",
    "import json\n",
    "import numpy as np\n",
    "import math\n",
    "\n",
    "def csv_2_pandas(player_id):\n",
    "    files = glob.glob(\"players/\" + player_id + \"/*/*.csv\")\n",
    "    data = []\n",
    "    i = 0\n",
    "    for file in files:\n",
    "        i += 1\n",
    "        data.append(pd.read_csv(file, delimiter=','))\n",
    "        data[i-1][\"SEASON\"] = i\n",
    "    \n",
    "    return pd.concat(data)"
   ]
  },
  {
   "cell_type": "code",
   "execution_count": 2,
   "metadata": {},
   "outputs": [],
   "source": [
    "def transform(data):\n",
    "    data = data.drop(['GRID_TYPE','GAME_EVENT_ID','PLAYER_ID','PLAYER_NAME','SHOT_ATTEMPTED_FLAG'], axis=1)\n",
    "\n",
    "    team_lkp = pd.read_csv(\"team_name_dict.csv\")\n",
    "\n",
    "    data = data.merge(team_lkp, how='left', on='TEAM_NAME')\n",
    "\n",
    "    data['HME_AWA'] = np.where(data['HTM'] == data['ABBR'], \"HOME\", \"AWAY\")\n",
    "    data['OPP'] = np.where(data['HTM'] == data['ABBR'], data['VTM'], data['HTM'])\n",
    "\n",
    "    with open(\"teams.json\",\"r\") as fin:\n",
    "        team_list = json.loads(fin.read())\n",
    "\n",
    "    team_id_dict = {}\n",
    "\n",
    "    for team in team_list:\n",
    "        team_id_dict[team['abbreviation']] = team['teamId']\n",
    "\n",
    "    data['OPP_ID'] = data['OPP'].apply(lambda x: team_id_dict[x])\n",
    "\n",
    "    data['MONTH'] = data['GAME_DATE'].astype('str').apply(lambda x: x[4:6])\n",
    "    data = data.drop(['TEAM_NAME', 'HTM','VTM','ABBR','OPP','EVENT_TYPE','SHOT_ZONE_RANGE', 'SHOT_ZONE_AREA','GAME_DATE'],axis=1)\n",
    "\n",
    "    qtr_dict = {1: 36, 2: 24, 3: 12, 4: 0, 5: 0, 6: 0, 7: 0, 8: 0}\n",
    "\n",
    "    period = data['PERIOD'].astype('int').apply(lambda x: qtr_dict[x])\n",
    "    data['MIN_REM'] = np.where(period >= 0, period + data['MINUTES_REMAINING'], period * data['MINUTES_REMAINING'])\n",
    "    data = data.drop(['MINUTES_REMAINING'], axis=1)\n",
    "    data['TIME_REMAINING'] = data['MIN_REM'] + (data['SECONDS_REMAINING'] / 60)\n",
    "    data = data.drop(['SECONDS_REMAINING','ACTION_TYPE'], axis=1)\n",
    "\n",
    "    range_dict = {'Mid-Range' : 1, 'Restricted Area': 0, 'Left Corner 3': 2,\n",
    "           'In The Paint (Non-RA)': 1, 'Above the Break 3': 2, 'Right Corner 3': 2,\n",
    "           'Backcourt': 3}\n",
    "\n",
    "    data[\"SHOT_DIFF\"] = data[\"SHOT_ZONE_BASIC\"].apply(lambda x: range_dict[x])\n",
    "    data = data.drop([\"SHOT_TYPE\",\"SHOT_ZONE_BASIC\",\"MIN_REM\"], axis=1)\n",
    "\n",
    "    data[\"HME_AWA\"] = data[\"HME_AWA\"].apply(lambda x: 0 if x == 'HOME' else 1)\n",
    "    \n",
    "    data['TIME_PER'] = data[\"TIME_REMAINING\"].apply(lambda x: math.floor(x))\n",
    "\n",
    "    \n",
    "    return data"
   ]
  },
  {
   "cell_type": "code",
   "execution_count": 3,
   "metadata": {},
   "outputs": [],
   "source": [
    "def create_data(player_id):    \n",
    "    data = csv_2_pandas(player_id)\n",
    "    data = transform(data)\n",
    "    with open(\"players/\" + player_id + \"/data.csv\", \"w\") as fout:\n",
    "        fout.write(data.to_csv(index=False))"
   ]
  },
  {
   "cell_type": "code",
   "execution_count": 7,
   "metadata": {},
   "outputs": [],
   "source": [
    "create_data(str(201939))"
   ]
  },
  {
   "cell_type": "code",
   "execution_count": 5,
   "metadata": {},
   "outputs": [],
   "source": [
    "create_data(str(2544))"
   ]
  },
  {
   "cell_type": "code",
   "execution_count": 4,
   "metadata": {},
   "outputs": [],
   "source": [
    "create_data(str(201142))"
   ]
  },
  {
   "cell_type": "code",
   "execution_count": 8,
   "metadata": {},
   "outputs": [],
   "source": [
    "create_data(str(202695))"
   ]
  },
  {
   "cell_type": "code",
   "execution_count": 9,
   "metadata": {},
   "outputs": [],
   "source": [
    "create_data(str(2546))"
   ]
  },
  {
   "cell_type": "code",
   "execution_count": 10,
   "metadata": {},
   "outputs": [],
   "source": [
    "create_data(str(977))"
   ]
  },
  {
   "cell_type": "code",
   "execution_count": 11,
   "metadata": {},
   "outputs": [],
   "source": [
    "create_data(str(893))"
   ]
  },
  {
   "cell_type": "code",
   "execution_count": 12,
   "metadata": {},
   "outputs": [],
   "source": [
    "create_data(str(2544))"
   ]
  },
  {
   "cell_type": "code",
   "execution_count": null,
   "metadata": {},
   "outputs": [],
   "source": []
  }
 ],
 "metadata": {
  "kernelspec": {
   "display_name": "Python 3",
   "language": "python",
   "name": "python3"
  },
  "language_info": {
   "codemirror_mode": {
    "name": "ipython",
    "version": 3
   },
   "file_extension": ".py",
   "mimetype": "text/x-python",
   "name": "python",
   "nbconvert_exporter": "python",
   "pygments_lexer": "ipython3",
   "version": "3.5.6"
  }
 },
 "nbformat": 4,
 "nbformat_minor": 2
}
